{
 "cells": [
  {
   "cell_type": "markdown",
   "id": "86d586ed-ece5-4d3f-a484-03e9d925dc8a",
   "metadata": {},
   "source": [
    "# [TensorFloat-32 (TF32) on Ampere (and later) devices](https://pytorch.org/docs/stable/notes/cuda.html#tensorfloat-32-tf32-on-ampere-and-later-devices)"
   ]
  },
  {
   "cell_type": "code",
   "execution_count": 1,
   "id": "e9f1d687-78d4-4eaa-980e-363fa2e71496",
   "metadata": {
    "execution": {
     "iopub.execute_input": "2025-04-03T22:07:51.446410Z",
     "iopub.status.busy": "2025-04-03T22:07:51.446273Z",
     "iopub.status.idle": "2025-04-03T22:07:52.176989Z",
     "shell.execute_reply": "2025-04-03T22:07:52.176601Z",
     "shell.execute_reply.started": "2025-04-03T22:07:51.446397Z"
    }
   },
   "outputs": [],
   "source": [
    "import torch"
   ]
  },
  {
   "cell_type": "markdown",
   "id": "7105b8be-16be-4228-9dea-3c109bd0e9c7",
   "metadata": {},
   "source": [
    "Two float64 10240x10240 tensors are 2 * 104.857.600 neurons"
   ]
  },
  {
   "cell_type": "markdown",
   "id": "02a0618b-5bf4-4270-9cb3-b801858e89a6",
   "metadata": {},
   "source": [
    "## Float 32 Matrix multiplication using CPU"
   ]
  },
  {
   "cell_type": "code",
   "execution_count": 2,
   "id": "261bc243-571f-4b7f-80b1-f416bceeb452",
   "metadata": {
    "execution": {
     "iopub.execute_input": "2025-04-03T22:07:52.177472Z",
     "iopub.status.busy": "2025-04-03T22:07:52.177339Z",
     "iopub.status.idle": "2025-04-03T22:07:52.850486Z",
     "shell.execute_reply": "2025-04-03T22:07:52.850086Z",
     "shell.execute_reply.started": "2025-04-03T22:07:52.177459Z"
    }
   },
   "outputs": [],
   "source": [
    "a = torch.randn(10240, 10240, device='cpu')\n",
    "b = torch.randn(10240, 10240, device='cpu')"
   ]
  },
  {
   "cell_type": "code",
   "execution_count": 3,
   "id": "4cfed58d-3e78-4c36-8c65-6f6e525b2d55",
   "metadata": {
    "execution": {
     "iopub.execute_input": "2025-04-03T22:07:52.850974Z",
     "iopub.status.busy": "2025-04-03T22:07:52.850873Z",
     "iopub.status.idle": "2025-04-03T22:07:54.806009Z",
     "shell.execute_reply": "2025-04-03T22:07:54.805707Z",
     "shell.execute_reply.started": "2025-04-03T22:07:52.850963Z"
    }
   },
   "outputs": [
    {
     "data": {
      "text/plain": [
       "tensor(80.7383)"
      ]
     },
     "execution_count": 3,
     "metadata": {},
     "output_type": "execute_result"
    }
   ],
   "source": [
    "ab = a @ b\n",
    "mean = ab.abs().mean()  # 80.7277\n",
    "mean"
   ]
  },
  {
   "cell_type": "markdown",
   "id": "f89ea9ef-3f8f-4725-8446-c68b5966a4b5",
   "metadata": {},
   "source": [
    "## Float 64 Matrix multiplication using CPU"
   ]
  },
  {
   "cell_type": "code",
   "execution_count": 4,
   "id": "764e8b33-46a7-4d14-a48b-e62d58ee9027",
   "metadata": {
    "execution": {
     "iopub.execute_input": "2025-04-03T22:07:54.806570Z",
     "iopub.status.busy": "2025-04-03T22:07:54.806441Z",
     "iopub.status.idle": "2025-04-03T22:07:57.769270Z",
     "shell.execute_reply": "2025-04-03T22:07:57.768832Z",
     "shell.execute_reply.started": "2025-04-03T22:07:54.806555Z"
    }
   },
   "outputs": [],
   "source": [
    "a_full = torch.randn(10240, 10240, dtype=torch.double, device='cpu')\n",
    "b_full = torch.randn(10240, 10240, dtype=torch.double, device='cpu')"
   ]
  },
  {
   "cell_type": "code",
   "execution_count": 5,
   "id": "aae3506e-0ff6-4f63-b303-91a4122871bf",
   "metadata": {
    "execution": {
     "iopub.execute_input": "2025-04-03T22:07:57.769760Z",
     "iopub.status.busy": "2025-04-03T22:07:57.769653Z",
     "iopub.status.idle": "2025-04-03T22:08:01.730061Z",
     "shell.execute_reply": "2025-04-03T22:08:01.729812Z",
     "shell.execute_reply.started": "2025-04-03T22:07:57.769748Z"
    }
   },
   "outputs": [
    {
     "data": {
      "text/plain": [
       "tensor(80.7250, dtype=torch.float64)"
      ]
     },
     "execution_count": 5,
     "metadata": {},
     "output_type": "execute_result"
    }
   ],
   "source": [
    "ab_full = a_full @ b_full\n",
    "mean = ab_full.abs().mean()  # 80.7277\n",
    "mean"
   ]
  },
  {
   "cell_type": "markdown",
   "id": "e48c22bf-899c-41f5-a298-196529e646ca",
   "metadata": {},
   "source": [
    "## Float 64 Matrix multiplication using GPU"
   ]
  },
  {
   "cell_type": "code",
   "execution_count": 6,
   "id": "a0e6d8df-ab52-476b-b319-508995b4dcf6",
   "metadata": {
    "execution": {
     "iopub.execute_input": "2025-04-03T22:08:01.731104Z",
     "iopub.status.busy": "2025-04-03T22:08:01.730868Z",
     "iopub.status.idle": "2025-04-03T22:08:01.855642Z",
     "shell.execute_reply": "2025-04-03T22:08:01.855296Z",
     "shell.execute_reply.started": "2025-04-03T22:08:01.731091Z"
    }
   },
   "outputs": [],
   "source": [
    "a_full = torch.randn(10240, 10240, dtype=torch.double, device='cuda')\n",
    "b_full = torch.randn(10240, 10240, dtype=torch.double, device='cuda')"
   ]
  },
  {
   "cell_type": "code",
   "execution_count": 7,
   "id": "c41629b4-f58b-4e25-a3d0-cd7fb1c76c2e",
   "metadata": {
    "execution": {
     "iopub.execute_input": "2025-04-03T22:08:01.856162Z",
     "iopub.status.busy": "2025-04-03T22:08:01.856051Z",
     "iopub.status.idle": "2025-04-03T22:08:14.023929Z",
     "shell.execute_reply": "2025-04-03T22:08:14.023645Z",
     "shell.execute_reply.started": "2025-04-03T22:08:01.856150Z"
    }
   },
   "outputs": [
    {
     "data": {
      "text/plain": [
       "tensor(80.7264, device='cuda:0', dtype=torch.float64)"
      ]
     },
     "execution_count": 7,
     "metadata": {},
     "output_type": "execute_result"
    }
   ],
   "source": [
    "ab_full = a_full @ b_full\n",
    "mean = ab_full.abs().mean()  # 80.7277\n",
    "mean"
   ]
  },
  {
   "cell_type": "markdown",
   "id": "224ed137-f939-42ed-a4d4-3605055dc1ea",
   "metadata": {},
   "source": [
    "## Float 32 Matrix multiplication using GPU at TF32 mode"
   ]
  },
  {
   "cell_type": "code",
   "execution_count": 8,
   "id": "c668c864-97bd-497c-a55b-e3b62e2e767a",
   "metadata": {
    "execution": {
     "iopub.execute_input": "2025-04-03T22:08:14.024394Z",
     "iopub.status.busy": "2025-04-03T22:08:14.024288Z",
     "iopub.status.idle": "2025-04-03T22:08:14.053131Z",
     "shell.execute_reply": "2025-04-03T22:08:14.052811Z",
     "shell.execute_reply.started": "2025-04-03T22:08:14.024382Z"
    }
   },
   "outputs": [],
   "source": [
    "a = a_full.float()\n",
    "b = b_full.float()"
   ]
  },
  {
   "cell_type": "code",
   "execution_count": 9,
   "id": "47f705f9-a6e0-4334-b266-63c512f96185",
   "metadata": {
    "execution": {
     "iopub.execute_input": "2025-04-03T22:08:14.053597Z",
     "iopub.status.busy": "2025-04-03T22:08:14.053495Z",
     "iopub.status.idle": "2025-04-03T22:08:14.248723Z",
     "shell.execute_reply": "2025-04-03T22:08:14.248443Z",
     "shell.execute_reply.started": "2025-04-03T22:08:14.053585Z"
    }
   },
   "outputs": [
    {
     "data": {
      "text/plain": [
       "tensor(80.7242, device='cuda:0')"
      ]
     },
     "execution_count": 9,
     "metadata": {},
     "output_type": "execute_result"
    }
   ],
   "source": [
    "torch.backends.cuda.matmul.allow_tf32 = True\n",
    "ab_tf32 = a @ b  # takes 0.016s on GA100\n",
    "ab_tf32.abs().mean()"
   ]
  },
  {
   "cell_type": "code",
   "execution_count": 10,
   "id": "30b23ea2-471e-47d8-9648-98b5a57c9d8a",
   "metadata": {
    "execution": {
     "iopub.execute_input": "2025-04-03T22:08:14.249155Z",
     "iopub.status.busy": "2025-04-03T22:08:14.249054Z",
     "iopub.status.idle": "2025-04-03T22:08:14.270045Z",
     "shell.execute_reply": "2025-04-03T22:08:14.269814Z",
     "shell.execute_reply.started": "2025-04-03T22:08:14.249143Z"
    }
   },
   "outputs": [
    {
     "data": {
      "text/plain": [
       "tensor(0.1758, device='cuda:0', dtype=torch.float64)"
      ]
     },
     "execution_count": 10,
     "metadata": {},
     "output_type": "execute_result"
    }
   ],
   "source": [
    "error = (ab_tf32 - ab_full).abs().max()  # 0.1747\n",
    "error"
   ]
  },
  {
   "cell_type": "code",
   "execution_count": 11,
   "id": "4bf9e75b-7888-415e-b13c-66e8bece9956",
   "metadata": {
    "execution": {
     "iopub.execute_input": "2025-04-03T22:08:14.270487Z",
     "iopub.status.busy": "2025-04-03T22:08:14.270386Z",
     "iopub.status.idle": "2025-04-03T22:08:14.273048Z",
     "shell.execute_reply": "2025-04-03T22:08:14.272833Z",
     "shell.execute_reply.started": "2025-04-03T22:08:14.270476Z"
    }
   },
   "outputs": [
    {
     "data": {
      "text/plain": [
       "tensor(0.0022, device='cuda:0', dtype=torch.float64)"
      ]
     },
     "execution_count": 11,
     "metadata": {},
     "output_type": "execute_result"
    }
   ],
   "source": [
    "relative_error = error / mean  # 0.0022\n",
    "relative_error"
   ]
  },
  {
   "cell_type": "markdown",
   "id": "c70c68ca-088d-4cf6-a490-94628a11af8c",
   "metadata": {},
   "source": [
    "## Float 32 Matrix multiplication using GPU with TF32 disabled"
   ]
  },
  {
   "cell_type": "code",
   "execution_count": 12,
   "id": "634e9d9a-02d4-466c-b9e1-77a831e05499",
   "metadata": {
    "execution": {
     "iopub.execute_input": "2025-04-03T22:08:14.273453Z",
     "iopub.status.busy": "2025-04-03T22:08:14.273356Z",
     "iopub.status.idle": "2025-04-03T22:08:14.538519Z",
     "shell.execute_reply": "2025-04-03T22:08:14.538247Z",
     "shell.execute_reply.started": "2025-04-03T22:08:14.273441Z"
    }
   },
   "outputs": [
    {
     "data": {
      "text/plain": [
       "tensor(80.7264, device='cuda:0')"
      ]
     },
     "execution_count": 12,
     "metadata": {},
     "output_type": "execute_result"
    }
   ],
   "source": [
    "torch.backends.cuda.matmul.allow_tf32 = False\n",
    "ab_fp32 = a @ b  # takes 0.11s on GA100\n",
    "ab_fp32.abs().mean()"
   ]
  },
  {
   "cell_type": "code",
   "execution_count": 13,
   "id": "31340492-88f7-4076-9680-bd4d1f216572",
   "metadata": {
    "execution": {
     "iopub.execute_input": "2025-04-03T22:08:14.538975Z",
     "iopub.status.busy": "2025-04-03T22:08:14.538869Z",
     "iopub.status.idle": "2025-04-03T22:08:14.557114Z",
     "shell.execute_reply": "2025-04-03T22:08:14.556822Z",
     "shell.execute_reply.started": "2025-04-03T22:08:14.538963Z"
    }
   },
   "outputs": [
    {
     "data": {
      "text/plain": [
       "tensor(0.0029, device='cuda:0', dtype=torch.float64)"
      ]
     },
     "execution_count": 13,
     "metadata": {},
     "output_type": "execute_result"
    }
   ],
   "source": [
    "error = (ab_fp32 - ab_full).abs().max()  # 0.0031\n",
    "error"
   ]
  },
  {
   "cell_type": "code",
   "execution_count": 14,
   "id": "8c507f74-5f52-41d9-8895-a92b991fab9d",
   "metadata": {
    "execution": {
     "iopub.execute_input": "2025-04-03T22:08:14.557541Z",
     "iopub.status.busy": "2025-04-03T22:08:14.557442Z",
     "iopub.status.idle": "2025-04-03T22:08:14.560766Z",
     "shell.execute_reply": "2025-04-03T22:08:14.560545Z",
     "shell.execute_reply.started": "2025-04-03T22:08:14.557529Z"
    }
   },
   "outputs": [
    {
     "data": {
      "text/plain": [
       "tensor(3.6156e-05, device='cuda:0', dtype=torch.float64)"
      ]
     },
     "execution_count": 14,
     "metadata": {},
     "output_type": "execute_result"
    }
   ],
   "source": [
    "relative_error = error / mean  # 0.000039\n",
    "relative_error"
   ]
  }
 ],
 "metadata": {
  "kernelspec": {
   "display_name": "Python 3 (ipykernel)",
   "language": "python",
   "name": "python3"
  },
  "language_info": {
   "codemirror_mode": {
    "name": "ipython",
    "version": 3
   },
   "file_extension": ".py",
   "mimetype": "text/x-python",
   "name": "python",
   "nbconvert_exporter": "python",
   "pygments_lexer": "ipython3",
   "version": "3.12.9"
  }
 },
 "nbformat": 4,
 "nbformat_minor": 5
}
