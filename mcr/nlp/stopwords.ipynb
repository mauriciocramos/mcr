{
 "cells": [
  {
   "cell_type": "markdown",
   "id": "0c045aa3-135b-441a-9ad8-dffba688bd81",
   "metadata": {},
   "source": [
    "# Modules"
   ]
  },
  {
   "cell_type": "code",
   "execution_count": 1,
   "id": "9a5cd898-aaaf-43c3-873e-ae064a297bf2",
   "metadata": {
    "execution": {
     "iopub.execute_input": "2022-10-23T09:03:26.499383Z",
     "iopub.status.busy": "2022-10-23T09:03:26.499247Z",
     "iopub.status.idle": "2022-10-23T09:03:27.046348Z",
     "shell.execute_reply": "2022-10-23T09:03:27.046070Z",
     "shell.execute_reply.started": "2022-10-23T09:03:26.499351Z"
    },
    "tags": []
   },
   "outputs": [],
   "source": [
    "import sys\n",
    "sys.path.insert(1, '/home/mauricio/code/mcr/')\n",
    "from mcr.nlp import tokenized_stopwords, WordTokenizer\n",
    "\n",
    "from sklearn.feature_extraction._stop_words import ENGLISH_STOP_WORDS as sklearn_stopwords\n",
    "from wordcloud import STOPWORDS as wordcloud_stopwords\n",
    "from nltk.corpus import stopwords as nltk_stopwords\n",
    "nltk_stopwords = nltk_stopwords.words('english')"
   ]
  },
  {
   "cell_type": "markdown",
   "id": "a84d50d3-b22b-45cb-b206-497462870ab1",
   "metadata": {},
   "source": [
    "# Wordcloud stopwords"
   ]
  },
  {
   "cell_type": "code",
   "execution_count": 2,
   "id": "1dc4324a-4c7d-4c62-b45f-b81887205702",
   "metadata": {
    "execution": {
     "iopub.execute_input": "2022-10-23T09:03:27.046875Z",
     "iopub.status.busy": "2022-10-23T09:03:27.046723Z",
     "iopub.status.idle": "2022-10-23T09:03:27.049219Z",
     "shell.execute_reply": "2022-10-23T09:03:27.048966Z",
     "shell.execute_reply.started": "2022-10-23T09:03:27.046863Z"
    },
    "tags": []
   },
   "outputs": [
    {
     "name": "stdout",
     "output_type": "stream",
     "text": [
      "Original: 192\n",
      "{'www', 'through', \"don't\", 'your', 'ours', 'get', 'just', 'over', \"they'll\", 'i', 'above', \"that's\", 'also', \"i've\", \"why's\", \"we'll\", 'until', 'what', 'during', 'can', \"wasn't\", 'when', 'shall', 'as', 'off', 'too', \"mustn't\", 'being', 'like', \"haven't\", 'most', \"we'd\", 'she', 'did', 'why', 'then', \"you're\", 'having', 'were', \"you'll\", 'once', \"i'm\", \"there's\", 'some', 'each', \"she'll\", 'for', \"doesn't\", \"he's\", 'any', \"we've\", 'further', \"he'll\", \"wouldn't\", 'how', 'they', 'k', \"we're\", 'itself', 'yourselves', 'else', 'those', 'very', 'but', 'after', 'our', 'same', 'yourself', \"let's\", \"shan't\", 'about', 'however', 'hers', \"couldn't\", 'cannot', 'my', 'a', 'doing', 'since', 'its', 'nor', 'their', 'are', \"hadn't\", 'therefore', 'before', 'myself', \"didn't\", \"who's\", \"you've\", \"she'd\", 'otherwise', 'r', 'had', 'theirs', \"where's\", 'do', 'it', 'his', 'http', 'few', 'by', 'her', 'no', 'be', 'under', 'me', 'from', 'that', 'the', 'you', 'if', \"can't\", \"it's\", 'out', 'up', 'there', 'him', 'am', 'down', \"when's\", 'an', 'would', 'below', 'herself', 'against', 'ought', 'ourselves', 'all', 'here', \"i'll\", 'we', \"they've\", 'between', \"isn't\", \"she's\", 'whom', \"here's\", 'other', 'himself', 'with', \"you'd\", 'should', 'does', \"i'd\", \"shouldn't\", 'them', 'and', 'because', 'in', 'been', 'has', 'on', \"weren't\", 'only', 'such', 'could', 'was', 'is', \"they'd\", 'again', 'to', 'this', 'own', \"he'd\", 'where', 'at', 'so', 'hence', 'have', 'not', 'which', 'yours', \"won't\", 'into', 'while', 'ever', 'com', 'themselves', 'more', \"aren't\", \"how's\", \"hasn't\", 'he', \"they're\", \"what's\", 'of', 'these', 'than', 'or', 'who', 'both'}\n"
     ]
    }
   ],
   "source": [
    "print(f'Original: {len(wordcloud_stopwords)}\\n{wordcloud_stopwords}')"
   ]
  },
  {
   "cell_type": "code",
   "execution_count": 3,
   "id": "969e3264-a9ef-44b8-af77-f82e6605254c",
   "metadata": {
    "execution": {
     "iopub.execute_input": "2022-10-23T09:03:27.049659Z",
     "iopub.status.busy": "2022-10-23T09:03:27.049559Z",
     "iopub.status.idle": "2022-10-23T09:03:27.056762Z",
     "shell.execute_reply": "2022-10-23T09:03:27.056427Z",
     "shell.execute_reply.started": "2022-10-23T09:03:27.049649Z"
    },
    "tags": []
   },
   "outputs": [
    {
     "name": "stdout",
     "output_type": "stream",
     "text": [
      "Adapted: 24\n",
      "{'hadn', 're', 'wouldn', 'doesn', 'let', 'don', 'aren', 'couldn', 'haven', 'hasn', 'd', 't', 'shouldn', 'shan', 'weren', 'won', 'll', 'm', 'wasn', 'mustn', 'isn', 've', 's', 'didn'}\n"
     ]
    }
   ],
   "source": [
    "# stopwords adapted\n",
    "wordcloud_stopwords_tokenized = tokenized_stopwords(wordcloud_stopwords)\n",
    "wordcloud_stopwords_different = set(wordcloud_stopwords_tokenized).difference(set(wordcloud_stopwords))\n",
    "print(f'Adapted: {len(wordcloud_stopwords_different)}\\n{wordcloud_stopwords_different}')"
   ]
  },
  {
   "cell_type": "code",
   "execution_count": 4,
   "id": "2a13917f-2668-4cad-b3fc-1bf0472dacfd",
   "metadata": {
    "execution": {
     "iopub.execute_input": "2022-10-23T09:03:27.057729Z",
     "iopub.status.busy": "2022-10-23T09:03:27.057572Z",
     "iopub.status.idle": "2022-10-23T09:03:27.059592Z",
     "shell.execute_reply": "2022-10-23T09:03:27.059317Z",
     "shell.execute_reply.started": "2022-10-23T09:03:27.057717Z"
    },
    "tags": []
   },
   "outputs": [
    {
     "name": "stdout",
     "output_type": "stream",
     "text": [
      "New: 166\n",
      "['www', 'through', 'your', 'ours', 're', 'get', 'wouldn', 'these', 'just', 'doesn', 'over', 'i', 'above', 'also', 'until', 'what', 'during', 'can', 'when', 'shall', 'as', 't', 'off', 'too', 'being', 'like', 'shouldn', 'won', 'most', 'she', 'did', 'why', 'then', 'having', 'were', 'once', 'isn', 'some', 'each', 'for', 'any', 'hadn', 'further', 'they', 'how', 'k', 'itself', 'yourselves', 'else', 'those', 'very', 'but', 'after', 'our', 'same', 'yourself', 'd', 'about', 'however', 'hers', 'weren', 'll', 'cannot', 'm', 'my', 'a', 'doing', 'since', 'its', 'nor', 'their', 'are', 'therefore', 'before', 'myself', 'otherwise', 'r', 'had', 'didn', 'theirs', 'do', 'it', 'his', 'http', 'few', 'by', 'her', 'no', 'be', 'under', 'me', 'from', 'that', 'you', 'the', 'let', 'don', 'if', 'aren', 'out', 'up', 'haven', 'there', 'him', 'am', 'down', 'would', 'an', 'hasn', 'below', 'herself', 'against', 'ought', 'ourselves', 'all', 'here', 'we', 'mustn', 'between', 'whom', 'other', 'himself', 've', 'with', 'should', 'does', 'them', 'and', 'because', 'in', 'been', 'has', 'on', 'only', 'such', 'could', 'was', 'is', 'again', 'to', 'this', 'own', 'where', 'couldn', 'at', 'so', 'hence', 'have', 'not', 'which', 'shan', 'yours', 'into', 'while', 'wasn', 'ever', 'com', 'themselves', 'more', 'he', 's', 'of', 'than', 'or', 'who', 'both']\n"
     ]
    }
   ],
   "source": [
    "# new list\n",
    "print(f'New: {len(wordcloud_stopwords_tokenized)}\\n{wordcloud_stopwords_tokenized}')                   "
   ]
  },
  {
   "cell_type": "markdown",
   "id": "332f22ae-e626-45e5-8e29-8d8fc46c900b",
   "metadata": {},
   "source": [
    "# NLTK stopwords"
   ]
  },
  {
   "cell_type": "code",
   "execution_count": 5,
   "id": "3ee1bf1a-ddfe-4a9b-b430-05b618bea0f5",
   "metadata": {
    "execution": {
     "iopub.execute_input": "2022-10-23T09:03:27.060180Z",
     "iopub.status.busy": "2022-10-23T09:03:27.059949Z",
     "iopub.status.idle": "2022-10-23T09:03:27.062020Z",
     "shell.execute_reply": "2022-10-23T09:03:27.061739Z",
     "shell.execute_reply.started": "2022-10-23T09:03:27.060168Z"
    },
    "tags": []
   },
   "outputs": [
    {
     "name": "stdout",
     "output_type": "stream",
     "text": [
      "Original: 179\n",
      "['i', 'me', 'my', 'myself', 'we', 'our', 'ours', 'ourselves', 'you', \"you're\", \"you've\", \"you'll\", \"you'd\", 'your', 'yours', 'yourself', 'yourselves', 'he', 'him', 'his', 'himself', 'she', \"she's\", 'her', 'hers', 'herself', 'it', \"it's\", 'its', 'itself', 'they', 'them', 'their', 'theirs', 'themselves', 'what', 'which', 'who', 'whom', 'this', 'that', \"that'll\", 'these', 'those', 'am', 'is', 'are', 'was', 'were', 'be', 'been', 'being', 'have', 'has', 'had', 'having', 'do', 'does', 'did', 'doing', 'a', 'an', 'the', 'and', 'but', 'if', 'or', 'because', 'as', 'until', 'while', 'of', 'at', 'by', 'for', 'with', 'about', 'against', 'between', 'into', 'through', 'during', 'before', 'after', 'above', 'below', 'to', 'from', 'up', 'down', 'in', 'out', 'on', 'off', 'over', 'under', 'again', 'further', 'then', 'once', 'here', 'there', 'when', 'where', 'why', 'how', 'all', 'any', 'both', 'each', 'few', 'more', 'most', 'other', 'some', 'such', 'no', 'nor', 'not', 'only', 'own', 'same', 'so', 'than', 'too', 'very', 's', 't', 'can', 'will', 'just', 'don', \"don't\", 'should', \"should've\", 'now', 'd', 'll', 'm', 'o', 're', 've', 'y', 'ain', 'aren', \"aren't\", 'couldn', \"couldn't\", 'didn', \"didn't\", 'doesn', \"doesn't\", 'hadn', \"hadn't\", 'hasn', \"hasn't\", 'haven', \"haven't\", 'isn', \"isn't\", 'ma', 'mightn', \"mightn't\", 'mustn', \"mustn't\", 'needn', \"needn't\", 'shan', \"shan't\", 'shouldn', \"shouldn't\", 'wasn', \"wasn't\", 'weren', \"weren't\", 'won', \"won't\", 'wouldn', \"wouldn't\"]\n"
     ]
    }
   ],
   "source": [
    "print(f'Original: {len(nltk_stopwords)}\\n{nltk_stopwords}')"
   ]
  },
  {
   "cell_type": "code",
   "execution_count": 6,
   "id": "a907a5b0-4ffe-4235-a21b-f0ce030a758c",
   "metadata": {
    "execution": {
     "iopub.execute_input": "2022-10-23T09:03:27.062494Z",
     "iopub.status.busy": "2022-10-23T09:03:27.062366Z",
     "iopub.status.idle": "2022-10-23T09:03:27.066419Z",
     "shell.execute_reply": "2022-10-23T09:03:27.066151Z",
     "shell.execute_reply.started": "2022-10-23T09:03:27.062484Z"
    },
    "tags": []
   },
   "outputs": [
    {
     "name": "stdout",
     "output_type": "stream",
     "text": [
      "Adapted: 0\n",
      "set()\n"
     ]
    }
   ],
   "source": [
    "# stopwords adapted\n",
    "nltk_stopwords_tokenized = tokenized_stopwords(nltk_stopwords)\n",
    "nltk_stopwords_different = set(nltk_stopwords_tokenized).difference(set(nltk_stopwords))\n",
    "print(f'Adapted: {len(nltk_stopwords_different)}\\n{nltk_stopwords_different}')"
   ]
  },
  {
   "cell_type": "code",
   "execution_count": 7,
   "id": "90e10851-9124-4677-bdad-765bdfc20803",
   "metadata": {
    "execution": {
     "iopub.execute_input": "2022-10-23T09:03:27.066980Z",
     "iopub.status.busy": "2022-10-23T09:03:27.066778Z",
     "iopub.status.idle": "2022-10-23T09:03:27.068709Z",
     "shell.execute_reply": "2022-10-23T09:03:27.068449Z",
     "shell.execute_reply.started": "2022-10-23T09:03:27.066969Z"
    },
    "tags": []
   },
   "outputs": [
    {
     "name": "stdout",
     "output_type": "stream",
     "text": [
      "New: 153\n",
      "['through', 'your', 'ours', 're', 'wouldn', 'just', 'doesn', 'over', 'ain', 'i', 'above', 'until', 'what', 'during', 'can', 'when', 'as', 'off', 'too', 't', 'being', 'shouldn', 'won', 'most', 'she', 'did', 'why', 'then', 'ma', 'having', 'were', 'once', 'isn', 'some', 'each', 'for', 'any', 'will', 'hadn', 'further', 'they', 'how', 'itself', 'yourselves', 'those', 'very', 'but', 'our', 'after', 'same', 'yourself', 'd', 'about', 'hers', 'weren', 'll', 'm', 'my', 'a', 'doing', 'its', 'nor', 'their', 'are', 'myself', 'before', 'had', 'theirs', 'didn', 'do', 'it', 'his', 'few', 'her', 'by', 'no', 'be', 'under', 'me', 'y', 'from', 'that', 'you', 'the', 'don', 'if', 'aren', 'out', 'up', 'haven', 'there', 'him', 'am', 'down', 'hasn', 'an', 'herself', 'below', 'against', 'ourselves', 'all', 'mightn', 'here', 'we', 'mustn', 'between', 'whom', 'needn', 'other', 'himself', 've', 'with', 'should', 'does', 'them', 'and', 'because', 'in', 'been', 'has', 'on', 'only', 'such', 'was', 'now', 'is', 'to', 'again', 'this', 'own', 'where', 'couldn', 'at', 'so', 'have', 'not', 'which', 'shan', 'yours', 'o', 'into', 'while', 'wasn', 'themselves', 'more', 'he', 's', 'these', 'of', 'than', 'or', 'who', 'both']\n"
     ]
    }
   ],
   "source": [
    "# new list\n",
    "print(f'New: {len(nltk_stopwords_tokenized)}\\n{nltk_stopwords_tokenized}')                   "
   ]
  },
  {
   "cell_type": "markdown",
   "id": "1e29e3d1-51ab-4514-a011-befffb8283a7",
   "metadata": {
    "tags": []
   },
   "source": [
    "# Sklearn stopwords"
   ]
  },
  {
   "cell_type": "code",
   "execution_count": 8,
   "id": "927f9ee7-d15c-4a57-8e4f-7f1ffc869ed8",
   "metadata": {
    "execution": {
     "iopub.execute_input": "2022-10-23T09:03:27.069104Z",
     "iopub.status.busy": "2022-10-23T09:03:27.069012Z",
     "iopub.status.idle": "2022-10-23T09:03:27.070958Z",
     "shell.execute_reply": "2022-10-23T09:03:27.070685Z",
     "shell.execute_reply.started": "2022-10-23T09:03:27.069095Z"
    },
    "tags": []
   },
   "outputs": [
    {
     "name": "stdout",
     "output_type": "stream",
     "text": [
      "Original: 318\n",
      "frozenset({'through', 'ours', 're', 'get', 'third', 'upon', 'over', 'enough', 'might', 'ten', 'via', 'what', 'thru', 'thence', 'onto', 'then', 'wherever', 'were', 'once', 'except', 'some', 'further', 'describe', 'how', 'itself', 'thick', 'whether', 'several', 'however', 'amount', 'noone', 'although', 'cannot', 'full', 'a', 'seemed', 'fill', 'nor', 'therefore', 'whose', 'became', 'last', 'otherwise', 'his', 'few', 'next', 'mine', 'done', 'perhaps', 'there', 'down', 'part', 'against', 'co', 'we', 'de', 'top', 'himself', 'with', 'herein', 'three', 'has', 'beforehand', 'fifty', 'again', 'own', 'go', 'where', 'at', 'twenty', 'somehow', 'take', 'he', 'of', 'ie', 'who', 'indeed', 'your', 'almost', 'becomes', 'even', 'above', 'until', 'must', 'whole', 'fifteen', 'eleven', 'beyond', 'meanwhile', 'four', 'each', 'for', 'much', 'any', 'formerly', 'else', 'toward', 'hereby', 'those', 'our', 'together', 'about', 'hers', 'nothing', 'my', 'still', 'least', 'empty', 'show', 'before', 'nobody', 'amongst', 'someone', 'move', 'along', 'do', 'it', 'please', 'six', 'you', 'ltd', 'if', 'seems', 'put', 'up', 'an', 'whatever', 'may', 'all', 'here', 'sometimes', 'should', 'them', 'whence', 'and', 'because', 'in', 'on', 'hereafter', 'without', 'whereupon', 'now', 'bottom', 'this', 'two', 'never', 'every', 'moreover', 'hence', 'not', 'yours', 'while', 'thin', 'across', 'eg', 'twelve', 'both', 'inc', 'becoming', 'neither', 'sometime', 'thereupon', 'nowhere', 'found', 'when', 'as', 'off', 'too', 'being', 'she', 'thus', 'something', 'will', 'they', 'former', 'very', 'after', 'same', 'yet', 'namely', 'mill', 'cry', 'already', 'had', 'find', 'detail', 'by', 'her', 'alone', 'be', 'another', 'from', 'that', 'the', 'latter', 'name', 'cant', 'him', 'am', 'behind', 'below', 'herself', 'anywhere', 'ourselves', 'nevertheless', 'besides', 'between', 'front', 'hereupon', 'among', 'forty', 'whereas', 'seeming', 'anyone', 'been', 'such', 'could', 'somewhere', 'is', 'us', 'whenever', 'so', 'back', 'well', 'see', 'anything', 'themselves', 'others', 'un', 'everyone', 'beside', 'throughout', 'etc', 'fire', 'always', 'thereafter', 'whereafter', 'i', 'also', 'during', 'can', 'none', 'most', 'many', 'why', 'seem', 'per', 'less', 'wherein', 'amoungst', 'bill', 'yourselves', 'mostly', 'towards', 'eight', 'but', 'keep', 'yourself', 'whither', 'sincere', 'become', 'afterwards', 'since', 'give', 'its', 'latterly', 'their', 'are', 'interest', 'myself', 'rather', 'anyway', 'couldnt', 'though', 'no', 'under', 'me', 'nine', 'whereby', 'often', 'con', 'out', 'serious', 'would', 'five', 'side', 'around', 'hasnt', 'sixty', 'whom', 'other', 'elsewhere', 'either', 'only', 'anyhow', 'was', 'everywhere', 'made', 'to', 'call', 'first', 'everything', 'have', 'which', 'system', 'into', 'therein', 'ever', 'more', 'one', 'whoever', 'hundred', 'due', 'thereby', 'these', 'within', 'than', 'or'})\n"
     ]
    }
   ],
   "source": [
    "print(f'Original: {len(sklearn_stopwords)}\\n{sklearn_stopwords}')"
   ]
  },
  {
   "cell_type": "code",
   "execution_count": 9,
   "id": "99db167d-361a-44e0-ab91-1cf2f5d5a80b",
   "metadata": {
    "execution": {
     "iopub.execute_input": "2022-10-23T09:03:27.071486Z",
     "iopub.status.busy": "2022-10-23T09:03:27.071309Z",
     "iopub.status.idle": "2022-10-23T09:03:27.076869Z",
     "shell.execute_reply": "2022-10-23T09:03:27.076572Z",
     "shell.execute_reply.started": "2022-10-23T09:03:27.071475Z"
    },
    "tags": []
   },
   "outputs": [
    {
     "name": "stdout",
     "output_type": "stream",
     "text": [
      "Adapted: 0\n",
      "set()\n"
     ]
    }
   ],
   "source": [
    "# stopwords adapted\n",
    "sklearn_stopwords_tokenized = tokenized_stopwords(sklearn_stopwords)\n",
    "sklearn_stopwords_different = set(sklearn_stopwords_tokenized).difference(set(sklearn_stopwords))\n",
    "print(f'Adapted: {len(sklearn_stopwords_different)}\\n{sklearn_stopwords_different}')"
   ]
  },
  {
   "cell_type": "code",
   "execution_count": 10,
   "id": "041d0848-e0fc-4cd9-b0e5-0fc61c76a2c5",
   "metadata": {
    "execution": {
     "iopub.execute_input": "2022-10-23T09:03:27.077434Z",
     "iopub.status.busy": "2022-10-23T09:03:27.077224Z",
     "iopub.status.idle": "2022-10-23T09:03:27.079119Z",
     "shell.execute_reply": "2022-10-23T09:03:27.078866Z",
     "shell.execute_reply.started": "2022-10-23T09:03:27.077423Z"
    },
    "tags": []
   },
   "outputs": [
    {
     "name": "stdout",
     "output_type": "stream",
     "text": [
      "New: 318\n",
      "['through', 're', 'ours', 'get', 'third', 'upon', 'over', 'enough', 'might', 'ten', 'via', 'what', 'thru', 'thence', 'onto', 'then', 'wherever', 'were', 'once', 'except', 'some', 'further', 'describe', 'how', 'itself', 'thick', 'whether', 'several', 'however', 'amount', 'noone', 'although', 'cannot', 'full', 'a', 'seemed', 'fill', 'nor', 'therefore', 'whose', 'became', 'otherwise', 'last', 'his', 'few', 'next', 'mine', 'done', 'perhaps', 'there', 'down', 'part', 'against', 'co', 'we', 'de', 'top', 'himself', 'with', 'herein', 'three', 'has', 'beforehand', 'fifty', 'again', 'own', 'go', 'where', 'at', 'twenty', 'somehow', 'take', 'he', 'of', 'ie', 'who', 'indeed', 'your', 'almost', 'becomes', 'even', 'above', 'until', 'must', 'whole', 'fifteen', 'eleven', 'beyond', 'meanwhile', 'four', 'each', 'for', 'much', 'any', 'formerly', 'else', 'toward', 'hereby', 'those', 'our', 'together', 'about', 'hers', 'nothing', 'my', 'still', 'least', 'empty', 'show', 'before', 'nobody', 'amongst', 'someone', 'move', 'along', 'do', 'it', 'please', 'six', 'you', 'ltd', 'if', 'seems', 'put', 'up', 'an', 'whatever', 'may', 'all', 'here', 'sometimes', 'should', 'them', 'whence', 'and', 'because', 'in', 'on', 'hereafter', 'without', 'whereupon', 'now', 'bottom', 'this', 'two', 'never', 'every', 'moreover', 'hence', 'not', 'yours', 'while', 'thin', 'across', 'eg', 'twelve', 'both', 'inc', 'becoming', 'neither', 'sometime', 'thereupon', 'nowhere', 'found', 'when', 'as', 'off', 'too', 'being', 'she', 'thus', 'something', 'will', 'they', 'former', 'very', 'after', 'same', 'yet', 'namely', 'mill', 'cry', 'already', 'had', 'find', 'detail', 'by', 'her', 'alone', 'be', 'another', 'from', 'that', 'the', 'latter', 'name', 'cant', 'him', 'am', 'behind', 'below', 'herself', 'anywhere', 'ourselves', 'nevertheless', 'besides', 'between', 'front', 'hereupon', 'among', 'forty', 'whereas', 'seeming', 'anyone', 'been', 'such', 'could', 'somewhere', 'is', 'us', 'whenever', 'so', 'back', 'well', 'see', 'anything', 'themselves', 'others', 'un', 'everyone', 'beside', 'throughout', 'etc', 'fire', 'always', 'thereafter', 'whereafter', 'i', 'also', 'during', 'can', 'none', 'most', 'many', 'why', 'seem', 'per', 'less', 'wherein', 'amoungst', 'bill', 'yourselves', 'mostly', 'towards', 'eight', 'but', 'keep', 'yourself', 'whither', 'sincere', 'become', 'afterwards', 'since', 'give', 'its', 'latterly', 'their', 'are', 'interest', 'myself', 'rather', 'anyway', 'couldnt', 'no', 'though', 'under', 'me', 'nine', 'whereby', 'often', 'con', 'out', 'serious', 'would', 'five', 'side', 'around', 'hasnt', 'sixty', 'whom', 'other', 'elsewhere', 'either', 'only', 'anyhow', 'was', 'everywhere', 'made', 'to', 'call', 'first', 'everything', 'have', 'which', 'system', 'into', 'therein', 'ever', 'more', 'one', 'whoever', 'hundred', 'due', 'thereby', 'these', 'within', 'than', 'or']\n"
     ]
    }
   ],
   "source": [
    "# new list\n",
    "print(f'New: {len(sklearn_stopwords_tokenized)}\\n{sklearn_stopwords_tokenized}')                   "
   ]
  },
  {
   "cell_type": "markdown",
   "id": "6032a4d1-584d-4d76-a73f-fae7c16e3a64",
   "metadata": {
    "tags": []
   },
   "source": [
    "# Stopword merging and dynamic adaptation"
   ]
  },
  {
   "cell_type": "code",
   "execution_count": 11,
   "id": "7d3d2df7-49eb-4d2a-9e23-a224e54e1fcd",
   "metadata": {
    "execution": {
     "iopub.execute_input": "2022-10-23T09:03:27.079606Z",
     "iopub.status.busy": "2022-10-23T09:03:27.079430Z",
     "iopub.status.idle": "2022-10-23T09:03:27.092603Z",
     "shell.execute_reply": "2022-10-23T09:03:27.092331Z",
     "shell.execute_reply.started": "2022-10-23T09:03:27.079597Z"
    },
    "tags": []
   },
   "outputs": [
    {
     "name": "stdout",
     "output_type": "stream",
     "text": [
      "a, about, above, across, after, afterwards, again, against, ain, all, almost, alone, along, already, also, although, always, am, among, amongst, amoungst, amount, an, and, another, any, anyhow, anyone, anything, anyway, anywhere, are, aren, around, as, at, back, be, became, because, become, becomes, becoming, been, before, beforehand, behind, being, below, beside, besides, between, beyond, bill, both, bottom, but, by, call, can, cannot, cant, co, con, could, couldn, couldnt, cry, d, de, describe, detail, did, didn, do, does, doesn, doing, don, done, down, due, during, each, eg, eight, either, eleven, else, elsewhere, empty, enough, etc, even, ever, every, everyone, everything, everywhere, except, few, fifteen, fifty, fill, find, fire, first, five, for, former, formerly, forty, found, four, from, front, full, further, get, give, go, had, hadn, has, hasn, hasnt, have, haven, having, he, hence, her, here, hereafter, hereby, herein, hereupon, hers, herself, him, himself, his, how, however, hundred, i, ie, if, in, inc, indeed, interest, into, is, isn, it, its, itself, just, keep, last, latter, latterly, least, less, ll, ltd, m, ma, made, many, may, me, meanwhile, might, mightn, mill, mine, more, moreover, most, mostly, move, much, must, mustn, my, myself, name, namely, needn, neither, never, nevertheless, next, nine, no, nobody, none, noone, nor, not, nothing, now, nowhere, o, of, off, often, on, once, one, only, onto, or, other, others, otherwise, our, ours, ourselves, out, over, own, part, per, perhaps, please, put, rather, re, s, same, see, seem, seemed, seeming, seems, serious, several, shan, she, should, shouldn, show, side, since, sincere, six, sixty, so, some, somehow, someone, something, sometime, sometimes, somewhere, still, such, system, t, take, ten, than, that, the, their, theirs, them, themselves, then, thence, there, thereafter, thereby, therefore, therein, thereupon, these, they, thick, thin, third, this, those, though, three, through, throughout, thru, thus, to, together, too, top, toward, towards, twelve, twenty, two, un, under, until, up, upon, us, ve, very, via, was, wasn, we, well, were, weren, what, whatever, when, whence, whenever, where, whereafter, whereas, whereby, wherein, whereupon, wherever, whether, which, while, whither, who, whoever, whole, whom, whose, why, will, with, within, without, won, would, wouldn, y, yet, you, your, yours, yourself, yourselves\n",
      "True\n"
     ]
    }
   ],
   "source": [
    "print(', '.join(sorted(tokenized_stopwords())))\n",
    "print(tokenized_stopwords(set(nltk_stopwords) | set(sklearn_stopwords)) == tokenized_stopwords())"
   ]
  }
 ],
 "metadata": {
  "kernelspec": {
   "display_name": "Python 3 (ipykernel)",
   "language": "python",
   "name": "python3"
  },
  "language_info": {
   "codemirror_mode": {
    "name": "ipython",
    "version": 3
   },
   "file_extension": ".py",
   "mimetype": "text/x-python",
   "name": "python",
   "nbconvert_exporter": "python",
   "pygments_lexer": "ipython3",
   "version": "3.9.13"
  }
 },
 "nbformat": 4,
 "nbformat_minor": 5
}
