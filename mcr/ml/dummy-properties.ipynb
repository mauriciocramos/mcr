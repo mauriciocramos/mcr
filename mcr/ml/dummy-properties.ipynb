{
 "cells": [
  {
   "cell_type": "code",
   "execution_count": null,
   "metadata": {
    "execution": {
     "iopub.execute_input": "2022-10-18T05:40:38.732008Z",
     "iopub.status.busy": "2022-10-18T05:40:38.731871Z",
     "iopub.status.idle": "2022-10-18T05:40:38.734582Z",
     "shell.execute_reply": "2022-10-18T05:40:38.734099Z",
     "shell.execute_reply.started": "2022-10-18T05:40:38.731996Z"
    },
    "tags": []
   },
   "outputs": [],
   "source": [
    "import pandas as pd\n",
    "import numpy as np\n",
    "import matplotlib.pyplot as plt\n",
    "plt.style.use('dark_background')"
   ]
  },
  {
   "cell_type": "markdown",
   "metadata": {},
   "source": [
    "# Example of multi-label multi-class dataframe"
   ]
  },
  {
   "cell_type": "code",
   "execution_count": 13,
   "metadata": {
    "execution": {
     "iopub.execute_input": "2022-10-20T09:37:49.052274Z",
     "iopub.status.busy": "2022-10-20T09:37:49.052139Z",
     "iopub.status.idle": "2022-10-20T09:37:49.057901Z",
     "shell.execute_reply": "2022-10-20T09:37:49.057443Z",
     "shell.execute_reply.started": "2022-10-20T09:37:49.052264Z"
    },
    "tags": []
   },
   "outputs": [
    {
     "data": {
      "text/html": [
       "<div>\n",
       "<style scoped>\n",
       "    .dataframe tbody tr th:only-of-type {\n",
       "        vertical-align: middle;\n",
       "    }\n",
       "\n",
       "    .dataframe tbody tr th {\n",
       "        vertical-align: top;\n",
       "    }\n",
       "\n",
       "    .dataframe thead th {\n",
       "        text-align: right;\n",
       "    }\n",
       "</style>\n",
       "<table border=\"1\" class=\"dataframe\">\n",
       "  <thead>\n",
       "    <tr style=\"text-align: right;\">\n",
       "      <th></th>\n",
       "      <th>label1</th>\n",
       "      <th>label2</th>\n",
       "      <th>label3</th>\n",
       "    </tr>\n",
       "  </thead>\n",
       "  <tbody>\n",
       "    <tr>\n",
       "      <th>0</th>\n",
       "      <td>classA</td>\n",
       "      <td>classD</td>\n",
       "      <td>classA</td>\n",
       "    </tr>\n",
       "    <tr>\n",
       "      <th>1</th>\n",
       "      <td>classB</td>\n",
       "      <td>classD</td>\n",
       "      <td>classB</td>\n",
       "    </tr>\n",
       "    <tr>\n",
       "      <th>2</th>\n",
       "      <td>classB</td>\n",
       "      <td>classD</td>\n",
       "      <td>classC</td>\n",
       "    </tr>\n",
       "    <tr>\n",
       "      <th>3</th>\n",
       "      <td>classC</td>\n",
       "      <td>classE</td>\n",
       "      <td>classD</td>\n",
       "    </tr>\n",
       "    <tr>\n",
       "      <th>4</th>\n",
       "      <td>classC</td>\n",
       "      <td>classF</td>\n",
       "      <td>classE</td>\n",
       "    </tr>\n",
       "    <tr>\n",
       "      <th>5</th>\n",
       "      <td>classC</td>\n",
       "      <td>classG</td>\n",
       "      <td>classF</td>\n",
       "    </tr>\n",
       "  </tbody>\n",
       "</table>\n",
       "</div>"
      ],
      "text/plain": [
       "   label1  label2  label3\n",
       "0  classA  classD  classA\n",
       "1  classB  classD  classB\n",
       "2  classB  classD  classC\n",
       "3  classC  classE  classD\n",
       "4  classC  classF  classE\n",
       "5  classC  classG  classF"
      ]
     },
     "execution_count": 13,
     "metadata": {},
     "output_type": "execute_result"
    }
   ],
   "source": [
    "df = pd.DataFrame({'label1': ['classA', 'classB', 'classB', 'classC', 'classC', 'classC'],\n",
    "                   'label2': ['classD', 'classD', 'classD', 'classE', 'classF', 'classG'],\n",
    "                   'label3': ['classA', 'classB', 'classC', 'classD', 'classE', 'classF']\n",
    "                  }, dtype='category')\n",
    "df"
   ]
  },
  {
   "cell_type": "markdown",
   "metadata": {},
   "source": [
    "# Number of unique classes per label"
   ]
  },
  {
   "cell_type": "code",
   "execution_count": 14,
   "metadata": {
    "execution": {
     "iopub.execute_input": "2022-10-20T09:37:56.518545Z",
     "iopub.status.busy": "2022-10-20T09:37:56.518411Z",
     "iopub.status.idle": "2022-10-20T09:37:56.522276Z",
     "shell.execute_reply": "2022-10-20T09:37:56.521849Z",
     "shell.execute_reply.started": "2022-10-20T09:37:56.518534Z"
    },
    "tags": []
   },
   "outputs": [
    {
     "data": {
      "text/plain": [
       "label1    3\n",
       "label2    4\n",
       "label3    6\n",
       "dtype: int64"
      ]
     },
     "execution_count": 14,
     "metadata": {},
     "output_type": "execute_result"
    }
   ],
   "source": [
    "nunique_classes = df.apply(pd.Series.nunique)\n",
    "nunique_classes"
   ]
  },
  {
   "cell_type": "markdown",
   "metadata": {},
   "source": [
    "# From labels to dummy variables"
   ]
  },
  {
   "cell_type": "code",
   "execution_count": 15,
   "metadata": {
    "execution": {
     "iopub.execute_input": "2022-10-20T09:37:57.386626Z",
     "iopub.status.busy": "2022-10-20T09:37:57.386492Z",
     "iopub.status.idle": "2022-10-20T09:37:57.392956Z",
     "shell.execute_reply": "2022-10-20T09:37:57.392438Z",
     "shell.execute_reply.started": "2022-10-20T09:37:57.386615Z"
    },
    "tags": []
   },
   "outputs": [
    {
     "data": {
      "text/html": [
       "<div>\n",
       "<style scoped>\n",
       "    .dataframe tbody tr th:only-of-type {\n",
       "        vertical-align: middle;\n",
       "    }\n",
       "\n",
       "    .dataframe tbody tr th {\n",
       "        vertical-align: top;\n",
       "    }\n",
       "\n",
       "    .dataframe thead th {\n",
       "        text-align: right;\n",
       "    }\n",
       "</style>\n",
       "<table border=\"1\" class=\"dataframe\">\n",
       "  <thead>\n",
       "    <tr style=\"text-align: right;\">\n",
       "      <th></th>\n",
       "      <th>label1_classA</th>\n",
       "      <th>label1_classB</th>\n",
       "      <th>label1_classC</th>\n",
       "      <th>label2_classD</th>\n",
       "      <th>label2_classE</th>\n",
       "      <th>label2_classF</th>\n",
       "      <th>label2_classG</th>\n",
       "      <th>label3_classA</th>\n",
       "      <th>label3_classB</th>\n",
       "      <th>label3_classC</th>\n",
       "      <th>label3_classD</th>\n",
       "      <th>label3_classE</th>\n",
       "      <th>label3_classF</th>\n",
       "    </tr>\n",
       "  </thead>\n",
       "  <tbody>\n",
       "    <tr>\n",
       "      <th>0</th>\n",
       "      <td>1</td>\n",
       "      <td>0</td>\n",
       "      <td>0</td>\n",
       "      <td>1</td>\n",
       "      <td>0</td>\n",
       "      <td>0</td>\n",
       "      <td>0</td>\n",
       "      <td>1</td>\n",
       "      <td>0</td>\n",
       "      <td>0</td>\n",
       "      <td>0</td>\n",
       "      <td>0</td>\n",
       "      <td>0</td>\n",
       "    </tr>\n",
       "    <tr>\n",
       "      <th>1</th>\n",
       "      <td>0</td>\n",
       "      <td>1</td>\n",
       "      <td>0</td>\n",
       "      <td>1</td>\n",
       "      <td>0</td>\n",
       "      <td>0</td>\n",
       "      <td>0</td>\n",
       "      <td>0</td>\n",
       "      <td>1</td>\n",
       "      <td>0</td>\n",
       "      <td>0</td>\n",
       "      <td>0</td>\n",
       "      <td>0</td>\n",
       "    </tr>\n",
       "    <tr>\n",
       "      <th>2</th>\n",
       "      <td>0</td>\n",
       "      <td>1</td>\n",
       "      <td>0</td>\n",
       "      <td>1</td>\n",
       "      <td>0</td>\n",
       "      <td>0</td>\n",
       "      <td>0</td>\n",
       "      <td>0</td>\n",
       "      <td>0</td>\n",
       "      <td>1</td>\n",
       "      <td>0</td>\n",
       "      <td>0</td>\n",
       "      <td>0</td>\n",
       "    </tr>\n",
       "    <tr>\n",
       "      <th>3</th>\n",
       "      <td>0</td>\n",
       "      <td>0</td>\n",
       "      <td>1</td>\n",
       "      <td>0</td>\n",
       "      <td>1</td>\n",
       "      <td>0</td>\n",
       "      <td>0</td>\n",
       "      <td>0</td>\n",
       "      <td>0</td>\n",
       "      <td>0</td>\n",
       "      <td>1</td>\n",
       "      <td>0</td>\n",
       "      <td>0</td>\n",
       "    </tr>\n",
       "    <tr>\n",
       "      <th>4</th>\n",
       "      <td>0</td>\n",
       "      <td>0</td>\n",
       "      <td>1</td>\n",
       "      <td>0</td>\n",
       "      <td>0</td>\n",
       "      <td>1</td>\n",
       "      <td>0</td>\n",
       "      <td>0</td>\n",
       "      <td>0</td>\n",
       "      <td>0</td>\n",
       "      <td>0</td>\n",
       "      <td>1</td>\n",
       "      <td>0</td>\n",
       "    </tr>\n",
       "    <tr>\n",
       "      <th>5</th>\n",
       "      <td>0</td>\n",
       "      <td>0</td>\n",
       "      <td>1</td>\n",
       "      <td>0</td>\n",
       "      <td>0</td>\n",
       "      <td>0</td>\n",
       "      <td>1</td>\n",
       "      <td>0</td>\n",
       "      <td>0</td>\n",
       "      <td>0</td>\n",
       "      <td>0</td>\n",
       "      <td>0</td>\n",
       "      <td>1</td>\n",
       "    </tr>\n",
       "  </tbody>\n",
       "</table>\n",
       "</div>"
      ],
      "text/plain": [
       "   label1_classA  label1_classB  label1_classC  label2_classD  label2_classE  \\\n",
       "0              1              0              0              1              0   \n",
       "1              0              1              0              1              0   \n",
       "2              0              1              0              1              0   \n",
       "3              0              0              1              0              1   \n",
       "4              0              0              1              0              0   \n",
       "5              0              0              1              0              0   \n",
       "\n",
       "   label2_classF  label2_classG  label3_classA  label3_classB  label3_classC  \\\n",
       "0              0              0              1              0              0   \n",
       "1              0              0              0              1              0   \n",
       "2              0              0              0              0              1   \n",
       "3              0              0              0              0              0   \n",
       "4              1              0              0              0              0   \n",
       "5              0              1              0              0              0   \n",
       "\n",
       "   label3_classD  label3_classE  label3_classF  \n",
       "0              0              0              0  \n",
       "1              0              0              0  \n",
       "2              0              0              0  \n",
       "3              1              0              0  \n",
       "4              0              1              0  \n",
       "5              0              0              1  "
      ]
     },
     "execution_count": 15,
     "metadata": {},
     "output_type": "execute_result"
    }
   ],
   "source": [
    "y = pd.get_dummies(df)\n",
    "y"
   ]
  },
  {
   "cell_type": "markdown",
   "metadata": {},
   "source": [
    "# Class indices to the dummy variables"
   ]
  },
  {
   "cell_type": "code",
   "execution_count": 16,
   "metadata": {
    "execution": {
     "iopub.execute_input": "2022-10-20T09:38:02.344307Z",
     "iopub.status.busy": "2022-10-20T09:38:02.344170Z",
     "iopub.status.idle": "2022-10-20T09:38:02.347572Z",
     "shell.execute_reply": "2022-10-20T09:38:02.347318Z",
     "shell.execute_reply.started": "2022-10-20T09:38:02.344296Z"
    },
    "tags": []
   },
   "outputs": [
    {
     "data": {
      "text/plain": [
       "[[0, 1, 2], [3, 4, 5, 6], [7, 8, 9, 10, 11, 12]]"
      ]
     },
     "execution_count": 16,
     "metadata": {},
     "output_type": "execute_result"
    }
   ],
   "source": [
    "label_margins = nunique_classes.cumsum()\n",
    "class_indices = [list(range(start, stop)) for start, stop in list(zip((label_margins - nunique_classes), label_margins))]\n",
    "class_indices"
   ]
  },
  {
   "cell_type": "markdown",
   "metadata": {},
   "source": [
    "# Accessing classes per label"
   ]
  },
  {
   "cell_type": "markdown",
   "metadata": {},
   "source": [
    "Various ways to do that:"
   ]
  },
  {
   "cell_type": "code",
   "execution_count": 17,
   "metadata": {
    "execution": {
     "iopub.execute_input": "2022-10-20T09:38:19.542875Z",
     "iopub.status.busy": "2022-10-20T09:38:19.542739Z",
     "iopub.status.idle": "2022-10-20T09:38:19.546013Z",
     "shell.execute_reply": "2022-10-20T09:38:19.545715Z",
     "shell.execute_reply.started": "2022-10-20T09:38:19.542864Z"
    },
    "tags": []
   },
   "outputs": [
    {
     "name": "stdout",
     "output_type": "stream",
     "text": [
      "dict of label indices and class indices:\n",
      "{0: [0, 1, 2], 1: [3, 4, 5, 6], 2: [7, 8, 9, 10, 11, 12]}\n",
      "\n",
      "dict of labels and classes:\n",
      "{'label1': ['label1_classA', 'label1_classB', 'label1_classC'], 'label2': ['label2_classD', 'label2_classE', 'label2_classF', 'label2_classG'], 'label3': ['label3_classA', 'label3_classB', 'label3_classC', 'label3_classD', 'label3_classE', 'label3_classF']}\n",
      "\n",
      "dict of labels and class indices:\n",
      "{'label1': [0, 1, 2], 'label2': [3, 4, 5, 6], 'label3': [7, 8, 9, 10, 11, 12]}\n",
      "\n",
      "dict of label indices and classes:\n",
      "{0: ['label1_classA', 'label1_classB', 'label1_classC'], 1: ['label2_classD', 'label2_classE', 'label2_classF', 'label2_classG'], 2: ['label3_classA', 'label3_classB', 'label3_classC', 'label3_classD', 'label3_classE', 'label3_classF']}\n"
     ]
    }
   ],
   "source": [
    "print('dict of label indices and class indices:')\n",
    "print({l: c for l,c in enumerate(class_indices)})\n",
    "print('\\ndict of labels and classes:')\n",
    "print({df.columns[l]: y.columns[c].to_list() for l,c in enumerate(class_indices)})\n",
    "print('\\ndict of labels and class indices:')\n",
    "print({df.columns[l]: c for l,c in enumerate(class_indices)})\n",
    "print('\\ndict of label indices and classes:')\n",
    "print({l: y.columns[c].to_list() for l,c in enumerate(class_indices)})"
   ]
  },
  {
   "cell_type": "code",
   "execution_count": 18,
   "metadata": {
    "execution": {
     "iopub.execute_input": "2022-10-20T09:38:45.740464Z",
     "iopub.status.busy": "2022-10-20T09:38:45.740326Z",
     "iopub.status.idle": "2022-10-20T09:38:45.749255Z",
     "shell.execute_reply": "2022-10-20T09:38:45.749004Z",
     "shell.execute_reply.started": "2022-10-20T09:38:45.740453Z"
    },
    "tags": []
   },
   "outputs": [
    {
     "name": "stdout",
     "output_type": "stream",
     "text": [
      "Label: label1\n"
     ]
    },
    {
     "data": {
      "text/html": [
       "<div>\n",
       "<style scoped>\n",
       "    .dataframe tbody tr th:only-of-type {\n",
       "        vertical-align: middle;\n",
       "    }\n",
       "\n",
       "    .dataframe tbody tr th {\n",
       "        vertical-align: top;\n",
       "    }\n",
       "\n",
       "    .dataframe thead th {\n",
       "        text-align: right;\n",
       "    }\n",
       "</style>\n",
       "<table border=\"1\" class=\"dataframe\">\n",
       "  <thead>\n",
       "    <tr style=\"text-align: right;\">\n",
       "      <th></th>\n",
       "      <th>label1_classA</th>\n",
       "      <th>label1_classB</th>\n",
       "      <th>label1_classC</th>\n",
       "    </tr>\n",
       "  </thead>\n",
       "  <tbody>\n",
       "    <tr>\n",
       "      <th>0</th>\n",
       "      <td>1</td>\n",
       "      <td>0</td>\n",
       "      <td>0</td>\n",
       "    </tr>\n",
       "    <tr>\n",
       "      <th>1</th>\n",
       "      <td>0</td>\n",
       "      <td>1</td>\n",
       "      <td>0</td>\n",
       "    </tr>\n",
       "    <tr>\n",
       "      <th>2</th>\n",
       "      <td>0</td>\n",
       "      <td>1</td>\n",
       "      <td>0</td>\n",
       "    </tr>\n",
       "    <tr>\n",
       "      <th>3</th>\n",
       "      <td>0</td>\n",
       "      <td>0</td>\n",
       "      <td>1</td>\n",
       "    </tr>\n",
       "    <tr>\n",
       "      <th>4</th>\n",
       "      <td>0</td>\n",
       "      <td>0</td>\n",
       "      <td>1</td>\n",
       "    </tr>\n",
       "    <tr>\n",
       "      <th>5</th>\n",
       "      <td>0</td>\n",
       "      <td>0</td>\n",
       "      <td>1</td>\n",
       "    </tr>\n",
       "  </tbody>\n",
       "</table>\n",
       "</div>"
      ],
      "text/plain": [
       "   label1_classA  label1_classB  label1_classC\n",
       "0              1              0              0\n",
       "1              0              1              0\n",
       "2              0              1              0\n",
       "3              0              0              1\n",
       "4              0              0              1\n",
       "5              0              0              1"
      ]
     },
     "metadata": {},
     "output_type": "display_data"
    },
    {
     "name": "stdout",
     "output_type": "stream",
     "text": [
      "Label: label2\n"
     ]
    },
    {
     "data": {
      "text/html": [
       "<div>\n",
       "<style scoped>\n",
       "    .dataframe tbody tr th:only-of-type {\n",
       "        vertical-align: middle;\n",
       "    }\n",
       "\n",
       "    .dataframe tbody tr th {\n",
       "        vertical-align: top;\n",
       "    }\n",
       "\n",
       "    .dataframe thead th {\n",
       "        text-align: right;\n",
       "    }\n",
       "</style>\n",
       "<table border=\"1\" class=\"dataframe\">\n",
       "  <thead>\n",
       "    <tr style=\"text-align: right;\">\n",
       "      <th></th>\n",
       "      <th>label2_classD</th>\n",
       "      <th>label2_classE</th>\n",
       "      <th>label2_classF</th>\n",
       "      <th>label2_classG</th>\n",
       "    </tr>\n",
       "  </thead>\n",
       "  <tbody>\n",
       "    <tr>\n",
       "      <th>0</th>\n",
       "      <td>1</td>\n",
       "      <td>0</td>\n",
       "      <td>0</td>\n",
       "      <td>0</td>\n",
       "    </tr>\n",
       "    <tr>\n",
       "      <th>1</th>\n",
       "      <td>1</td>\n",
       "      <td>0</td>\n",
       "      <td>0</td>\n",
       "      <td>0</td>\n",
       "    </tr>\n",
       "    <tr>\n",
       "      <th>2</th>\n",
       "      <td>1</td>\n",
       "      <td>0</td>\n",
       "      <td>0</td>\n",
       "      <td>0</td>\n",
       "    </tr>\n",
       "    <tr>\n",
       "      <th>3</th>\n",
       "      <td>0</td>\n",
       "      <td>1</td>\n",
       "      <td>0</td>\n",
       "      <td>0</td>\n",
       "    </tr>\n",
       "    <tr>\n",
       "      <th>4</th>\n",
       "      <td>0</td>\n",
       "      <td>0</td>\n",
       "      <td>1</td>\n",
       "      <td>0</td>\n",
       "    </tr>\n",
       "    <tr>\n",
       "      <th>5</th>\n",
       "      <td>0</td>\n",
       "      <td>0</td>\n",
       "      <td>0</td>\n",
       "      <td>1</td>\n",
       "    </tr>\n",
       "  </tbody>\n",
       "</table>\n",
       "</div>"
      ],
      "text/plain": [
       "   label2_classD  label2_classE  label2_classF  label2_classG\n",
       "0              1              0              0              0\n",
       "1              1              0              0              0\n",
       "2              1              0              0              0\n",
       "3              0              1              0              0\n",
       "4              0              0              1              0\n",
       "5              0              0              0              1"
      ]
     },
     "metadata": {},
     "output_type": "display_data"
    },
    {
     "name": "stdout",
     "output_type": "stream",
     "text": [
      "Label: label3\n"
     ]
    },
    {
     "data": {
      "text/html": [
       "<div>\n",
       "<style scoped>\n",
       "    .dataframe tbody tr th:only-of-type {\n",
       "        vertical-align: middle;\n",
       "    }\n",
       "\n",
       "    .dataframe tbody tr th {\n",
       "        vertical-align: top;\n",
       "    }\n",
       "\n",
       "    .dataframe thead th {\n",
       "        text-align: right;\n",
       "    }\n",
       "</style>\n",
       "<table border=\"1\" class=\"dataframe\">\n",
       "  <thead>\n",
       "    <tr style=\"text-align: right;\">\n",
       "      <th></th>\n",
       "      <th>label3_classA</th>\n",
       "      <th>label3_classB</th>\n",
       "      <th>label3_classC</th>\n",
       "      <th>label3_classD</th>\n",
       "      <th>label3_classE</th>\n",
       "      <th>label3_classF</th>\n",
       "    </tr>\n",
       "  </thead>\n",
       "  <tbody>\n",
       "    <tr>\n",
       "      <th>0</th>\n",
       "      <td>1</td>\n",
       "      <td>0</td>\n",
       "      <td>0</td>\n",
       "      <td>0</td>\n",
       "      <td>0</td>\n",
       "      <td>0</td>\n",
       "    </tr>\n",
       "    <tr>\n",
       "      <th>1</th>\n",
       "      <td>0</td>\n",
       "      <td>1</td>\n",
       "      <td>0</td>\n",
       "      <td>0</td>\n",
       "      <td>0</td>\n",
       "      <td>0</td>\n",
       "    </tr>\n",
       "    <tr>\n",
       "      <th>2</th>\n",
       "      <td>0</td>\n",
       "      <td>0</td>\n",
       "      <td>1</td>\n",
       "      <td>0</td>\n",
       "      <td>0</td>\n",
       "      <td>0</td>\n",
       "    </tr>\n",
       "    <tr>\n",
       "      <th>3</th>\n",
       "      <td>0</td>\n",
       "      <td>0</td>\n",
       "      <td>0</td>\n",
       "      <td>1</td>\n",
       "      <td>0</td>\n",
       "      <td>0</td>\n",
       "    </tr>\n",
       "    <tr>\n",
       "      <th>4</th>\n",
       "      <td>0</td>\n",
       "      <td>0</td>\n",
       "      <td>0</td>\n",
       "      <td>0</td>\n",
       "      <td>1</td>\n",
       "      <td>0</td>\n",
       "    </tr>\n",
       "    <tr>\n",
       "      <th>5</th>\n",
       "      <td>0</td>\n",
       "      <td>0</td>\n",
       "      <td>0</td>\n",
       "      <td>0</td>\n",
       "      <td>0</td>\n",
       "      <td>1</td>\n",
       "    </tr>\n",
       "  </tbody>\n",
       "</table>\n",
       "</div>"
      ],
      "text/plain": [
       "   label3_classA  label3_classB  label3_classC  label3_classD  label3_classE  \\\n",
       "0              1              0              0              0              0   \n",
       "1              0              1              0              0              0   \n",
       "2              0              0              1              0              0   \n",
       "3              0              0              0              1              0   \n",
       "4              0              0              0              0              1   \n",
       "5              0              0              0              0              0   \n",
       "\n",
       "   label3_classF  \n",
       "0              0  \n",
       "1              0  \n",
       "2              0  \n",
       "3              0  \n",
       "4              0  \n",
       "5              1  "
      ]
     },
     "metadata": {},
     "output_type": "display_data"
    }
   ],
   "source": [
    "for l, c in enumerate(class_indices):\n",
    "    print('Label:', df.columns[l])\n",
    "    display(y.iloc[:,class_indices[l]])"
   ]
  },
  {
   "cell_type": "markdown",
   "metadata": {},
   "source": [
    "# Dummy sums"
   ]
  },
  {
   "cell_type": "markdown",
   "metadata": {},
   "source": [
    "## Column sums: class frequency"
   ]
  },
  {
   "cell_type": "code",
   "execution_count": 19,
   "metadata": {
    "execution": {
     "iopub.execute_input": "2022-10-20T09:39:08.919909Z",
     "iopub.status.busy": "2022-10-20T09:39:08.919773Z",
     "iopub.status.idle": "2022-10-20T09:39:08.923657Z",
     "shell.execute_reply": "2022-10-20T09:39:08.923260Z",
     "shell.execute_reply.started": "2022-10-20T09:39:08.919898Z"
    },
    "tags": []
   },
   "outputs": [
    {
     "data": {
      "text/plain": [
       "label1_classA    1\n",
       "label1_classB    2\n",
       "label1_classC    3\n",
       "label2_classD    3\n",
       "label2_classE    1\n",
       "label2_classF    1\n",
       "label2_classG    1\n",
       "label3_classA    1\n",
       "label3_classB    1\n",
       "label3_classC    1\n",
       "label3_classD    1\n",
       "label3_classE    1\n",
       "label3_classF    1\n",
       "dtype: int64"
      ]
     },
     "execution_count": 19,
     "metadata": {},
     "output_type": "execute_result"
    }
   ],
   "source": [
    "y.sum()"
   ]
  },
  {
   "cell_type": "markdown",
   "metadata": {},
   "source": [
    "## Row sums: always sum up to the number of labels"
   ]
  },
  {
   "cell_type": "code",
   "execution_count": 20,
   "metadata": {
    "execution": {
     "iopub.execute_input": "2022-10-20T09:39:11.614277Z",
     "iopub.status.busy": "2022-10-20T09:39:11.614070Z",
     "iopub.status.idle": "2022-10-20T09:39:11.618290Z",
     "shell.execute_reply": "2022-10-20T09:39:11.617950Z",
     "shell.execute_reply.started": "2022-10-20T09:39:11.614259Z"
    },
    "tags": []
   },
   "outputs": [
    {
     "data": {
      "text/plain": [
       "0    3\n",
       "1    3\n",
       "2    3\n",
       "3    3\n",
       "4    3\n",
       "5    3\n",
       "dtype: int64"
      ]
     },
     "execution_count": 20,
     "metadata": {},
     "output_type": "execute_result"
    }
   ],
   "source": [
    "y.sum(axis=1)"
   ]
  },
  {
   "cell_type": "markdown",
   "metadata": {},
   "source": [
    "## Column sums by label: label frequency = number of rows"
   ]
  },
  {
   "cell_type": "code",
   "execution_count": 21,
   "metadata": {
    "execution": {
     "iopub.execute_input": "2022-10-20T09:39:15.542182Z",
     "iopub.status.busy": "2022-10-20T09:39:15.541969Z",
     "iopub.status.idle": "2022-10-20T09:39:15.547864Z",
     "shell.execute_reply": "2022-10-20T09:39:15.547507Z",
     "shell.execute_reply.started": "2022-10-20T09:39:15.542164Z"
    },
    "tags": []
   },
   "outputs": [
    {
     "data": {
      "text/plain": [
       "{'label1': 6, 'label2': 6, 'label3': 6}"
      ]
     },
     "execution_count": 21,
     "metadata": {},
     "output_type": "execute_result"
    }
   ],
   "source": [
    "{df.columns[l]: y.iloc[:,c].sum().sum() for l, c in enumerate(class_indices)}"
   ]
  },
  {
   "cell_type": "markdown",
   "metadata": {},
   "source": [
    "# Dummy averages"
   ]
  },
  {
   "cell_type": "markdown",
   "metadata": {},
   "source": [
    "## Column averages: class probabilities "
   ]
  },
  {
   "cell_type": "code",
   "execution_count": 22,
   "metadata": {
    "execution": {
     "iopub.execute_input": "2022-10-20T09:39:30.294505Z",
     "iopub.status.busy": "2022-10-20T09:39:30.294293Z",
     "iopub.status.idle": "2022-10-20T09:39:30.299007Z",
     "shell.execute_reply": "2022-10-20T09:39:30.298667Z",
     "shell.execute_reply.started": "2022-10-20T09:39:30.294488Z"
    },
    "tags": []
   },
   "outputs": [
    {
     "data": {
      "text/plain": [
       "label1_classA    0.166667\n",
       "label1_classB    0.333333\n",
       "label1_classC    0.500000\n",
       "label2_classD    0.500000\n",
       "label2_classE    0.166667\n",
       "label2_classF    0.166667\n",
       "label2_classG    0.166667\n",
       "label3_classA    0.166667\n",
       "label3_classB    0.166667\n",
       "label3_classC    0.166667\n",
       "label3_classD    0.166667\n",
       "label3_classE    0.166667\n",
       "label3_classF    0.166667\n",
       "dtype: float64"
      ]
     },
     "execution_count": 22,
     "metadata": {},
     "output_type": "execute_result"
    }
   ],
   "source": [
    "y.mean()"
   ]
  },
  {
   "cell_type": "markdown",
   "metadata": {},
   "source": [
    "## Products of class probabilities"
   ]
  },
  {
   "cell_type": "code",
   "execution_count": 23,
   "metadata": {
    "execution": {
     "iopub.execute_input": "2022-10-20T09:39:32.309988Z",
     "iopub.status.busy": "2022-10-20T09:39:32.309775Z",
     "iopub.status.idle": "2022-10-20T09:39:32.312960Z",
     "shell.execute_reply": "2022-10-20T09:39:32.312575Z",
     "shell.execute_reply.started": "2022-10-20T09:39:32.309968Z"
    },
    "tags": []
   },
   "outputs": [
    {
     "name": "stdout",
     "output_type": "stream",
     "text": [
      "0.00000000137818097399\n"
     ]
    }
   ],
   "source": [
    "# Product of all column averages\n",
    "print(f'{y.mean().prod():,.20f}')"
   ]
  },
  {
   "cell_type": "markdown",
   "metadata": {
    "execution": {
     "iopub.execute_input": "2022-10-18T07:36:26.530424Z",
     "iopub.status.busy": "2022-10-18T07:36:26.530282Z",
     "iopub.status.idle": "2022-10-18T07:36:26.537350Z",
     "shell.execute_reply": "2022-10-18T07:36:26.536978Z",
     "shell.execute_reply.started": "2022-10-18T07:36:26.530412Z"
    }
   },
   "source": [
    "Factors"
   ]
  },
  {
   "cell_type": "code",
   "execution_count": 24,
   "metadata": {
    "execution": {
     "iopub.execute_input": "2022-10-20T09:39:33.837965Z",
     "iopub.status.busy": "2022-10-20T09:39:33.837751Z",
     "iopub.status.idle": "2022-10-20T09:39:33.843273Z",
     "shell.execute_reply": "2022-10-20T09:39:33.842911Z",
     "shell.execute_reply.started": "2022-10-20T09:39:33.837947Z"
    },
    "tags": []
   },
   "outputs": [
    {
     "data": {
      "text/plain": [
       "[0.027777777777777776, 0.0023148148148148147, 2.1433470507544577e-05]"
      ]
     },
     "execution_count": 24,
     "metadata": {},
     "output_type": "execute_result"
    }
   ],
   "source": [
    "# Products of column averages within labels\n",
    "[y.iloc[:,l].mean().prod() for l in class_indices]"
   ]
  },
  {
   "cell_type": "markdown",
   "metadata": {},
   "source": [
    "## Column averages by label: label probabilities"
   ]
  },
  {
   "cell_type": "code",
   "execution_count": 25,
   "metadata": {
    "execution": {
     "iopub.execute_input": "2022-10-20T09:39:34.926057Z",
     "iopub.status.busy": "2022-10-20T09:39:34.925843Z",
     "iopub.status.idle": "2022-10-20T09:39:34.930282Z",
     "shell.execute_reply": "2022-10-20T09:39:34.929881Z",
     "shell.execute_reply.started": "2022-10-20T09:39:34.926039Z"
    },
    "tags": []
   },
   "outputs": [
    {
     "data": {
      "text/plain": [
       "[0.3333333333333333, 0.25, 0.16666666666666666]"
      ]
     },
     "execution_count": 25,
     "metadata": {},
     "output_type": "execute_result"
    }
   ],
   "source": [
    "[y.iloc[:,l].values.mean() for l in class_indices]"
   ]
  },
  {
   "cell_type": "markdown",
   "metadata": {},
   "source": [
    "Is the same as the probability distribution of number of unique classes"
   ]
  },
  {
   "cell_type": "code",
   "execution_count": 29,
   "metadata": {
    "execution": {
     "iopub.execute_input": "2022-10-20T09:40:05.087724Z",
     "iopub.status.busy": "2022-10-20T09:40:05.087351Z",
     "iopub.status.idle": "2022-10-20T09:40:05.090307Z",
     "shell.execute_reply": "2022-10-20T09:40:05.090049Z",
     "shell.execute_reply.started": "2022-10-20T09:40:05.087711Z"
    },
    "tags": []
   },
   "outputs": [
    {
     "data": {
      "text/plain": [
       "array([0.33333333, 0.25      , 0.16666667])"
      ]
     },
     "execution_count": 29,
     "metadata": {},
     "output_type": "execute_result"
    }
   ],
   "source": [
    "1 / nunique_classes.values"
   ]
  },
  {
   "cell_type": "markdown",
   "metadata": {
    "tags": []
   },
   "source": [
    "## Product of column averages by label: product of label probabilities"
   ]
  },
  {
   "cell_type": "code",
   "execution_count": 30,
   "metadata": {
    "execution": {
     "iopub.execute_input": "2022-10-20T09:40:08.869675Z",
     "iopub.status.busy": "2022-10-20T09:40:08.869544Z",
     "iopub.status.idle": "2022-10-20T09:40:08.872929Z",
     "shell.execute_reply": "2022-10-20T09:40:08.872668Z",
     "shell.execute_reply.started": "2022-10-20T09:40:08.869665Z"
    },
    "tags": []
   },
   "outputs": [
    {
     "data": {
      "text/plain": [
       "0.013888888888888888"
      ]
     },
     "execution_count": 30,
     "metadata": {},
     "output_type": "execute_result"
    }
   ],
   "source": [
    "np.product([y.iloc[:,l].values.mean() for l in class_indices])"
   ]
  },
  {
   "cell_type": "markdown",
   "metadata": {
    "tags": []
   },
   "source": [
    "## Row averages: allways averages to labels / classes ratio"
   ]
  },
  {
   "cell_type": "code",
   "execution_count": 31,
   "metadata": {
    "execution": {
     "iopub.execute_input": "2022-10-20T09:40:09.405432Z",
     "iopub.status.busy": "2022-10-20T09:40:09.405297Z",
     "iopub.status.idle": "2022-10-20T09:40:09.408601Z",
     "shell.execute_reply": "2022-10-20T09:40:09.408343Z",
     "shell.execute_reply.started": "2022-10-20T09:40:09.405421Z"
    },
    "scrolled": true,
    "tags": []
   },
   "outputs": [
    {
     "data": {
      "text/plain": [
       "0    0.230769\n",
       "1    0.230769\n",
       "2    0.230769\n",
       "3    0.230769\n",
       "4    0.230769\n",
       "5    0.230769\n",
       "dtype: float64"
      ]
     },
     "execution_count": 31,
     "metadata": {},
     "output_type": "execute_result"
    }
   ],
   "source": [
    "y.mean(axis=1)"
   ]
  },
  {
   "cell_type": "code",
   "execution_count": 32,
   "metadata": {
    "execution": {
     "iopub.execute_input": "2022-10-20T09:40:09.829452Z",
     "iopub.status.busy": "2022-10-20T09:40:09.829317Z",
     "iopub.status.idle": "2022-10-20T09:40:09.832336Z",
     "shell.execute_reply": "2022-10-20T09:40:09.831945Z",
     "shell.execute_reply.started": "2022-10-20T09:40:09.829441Z"
    },
    "tags": []
   },
   "outputs": [
    {
     "data": {
      "text/plain": [
       "0.23076923076923078"
      ]
     },
     "execution_count": 32,
     "metadata": {},
     "output_type": "execute_result"
    }
   ],
   "source": [
    "len(df.columns) / len(y.columns)"
   ]
  },
  {
   "cell_type": "markdown",
   "metadata": {},
   "source": [
    "## Products of row averages"
   ]
  },
  {
   "cell_type": "code",
   "execution_count": 33,
   "metadata": {
    "execution": {
     "iopub.execute_input": "2022-10-20T09:40:11.046101Z",
     "iopub.status.busy": "2022-10-20T09:40:11.045966Z",
     "iopub.status.idle": "2022-10-20T09:40:11.048948Z",
     "shell.execute_reply": "2022-10-20T09:40:11.048533Z",
     "shell.execute_reply.started": "2022-10-20T09:40:11.046090Z"
    },
    "tags": []
   },
   "outputs": [
    {
     "data": {
      "text/plain": [
       "0.00015103145784305954"
      ]
     },
     "execution_count": 33,
     "metadata": {},
     "output_type": "execute_result"
    }
   ],
   "source": [
    "y.mean(axis=1).product()"
   ]
  },
  {
   "cell_type": "code",
   "execution_count": 34,
   "metadata": {
    "execution": {
     "iopub.execute_input": "2022-10-20T09:40:11.557757Z",
     "iopub.status.busy": "2022-10-20T09:40:11.557587Z",
     "iopub.status.idle": "2022-10-20T09:40:11.561705Z",
     "shell.execute_reply": "2022-10-20T09:40:11.561275Z",
     "shell.execute_reply.started": "2022-10-20T09:40:11.557746Z"
    },
    "tags": []
   },
   "outputs": [
    {
     "data": {
      "text/plain": [
       "[0.001371742112482853, 0.000244140625, 2.1433470507544577e-05]"
      ]
     },
     "execution_count": 34,
     "metadata": {},
     "output_type": "execute_result"
    }
   ],
   "source": [
    "[y.iloc[:,l].mean(axis=1).prod() for l in class_indices]"
   ]
  }
 ],
 "metadata": {
  "hide_input": false,
  "kernelspec": {
   "display_name": "Python 3 (ipykernel)",
   "language": "python",
   "name": "python3"
  },
  "language_info": {
   "codemirror_mode": {
    "name": "ipython",
    "version": 3
   },
   "file_extension": ".py",
   "mimetype": "text/x-python",
   "name": "python",
   "nbconvert_exporter": "python",
   "pygments_lexer": "ipython3",
   "version": "3.10.12"
  },
  "toc": {
   "base_numbering": 1,
   "nav_menu": {},
   "number_sections": true,
   "sideBar": true,
   "skip_h1_title": false,
   "title_cell": "Table of Contents",
   "title_sidebar": "Contents",
   "toc_cell": false,
   "toc_position": {
    "height": "calc(100% - 180px)",
    "left": "10px",
    "top": "150px",
    "width": "220px"
   },
   "toc_section_display": true,
   "toc_window_display": true
  },
  "varInspector": {
   "cols": {
    "lenName": 16,
    "lenType": 16,
    "lenVar": 40
   },
   "kernels_config": {
    "python": {
     "delete_cmd_postfix": "",
     "delete_cmd_prefix": "del ",
     "library": "var_list.py",
     "varRefreshCmd": "print(var_dic_list())"
    },
    "r": {
     "delete_cmd_postfix": ") ",
     "delete_cmd_prefix": "rm(",
     "library": "var_list.r",
     "varRefreshCmd": "cat(var_dic_list()) "
    }
   },
   "types_to_exclude": [
    "module",
    "function",
    "builtin_function_or_method",
    "instance",
    "_Feature"
   ],
   "window_display": false
  }
 },
 "nbformat": 4,
 "nbformat_minor": 4
}
